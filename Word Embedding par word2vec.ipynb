{
 "cells": [
  {
   "cell_type": "code",
   "execution_count": 1,
   "id": "557ae1d7",
   "metadata": {
    "_cell_guid": "b1076dfc-b9ad-4769-8c92-a6c4dae69d19",
    "_uuid": "8f2839f25d086af736a60e9eeb907d3b93b6e0e5",
    "execution": {
     "iopub.execute_input": "2024-03-13T16:23:56.896095Z",
     "iopub.status.busy": "2024-03-13T16:23:56.894888Z",
     "iopub.status.idle": "2024-03-13T16:23:57.928094Z",
     "shell.execute_reply": "2024-03-13T16:23:57.926935Z"
    },
    "papermill": {
     "duration": 1.044195,
     "end_time": "2024-03-13T16:23:57.930725",
     "exception": false,
     "start_time": "2024-03-13T16:23:56.886530",
     "status": "completed"
    },
    "tags": []
   },
   "outputs": [
    {
     "name": "stdout",
     "output_type": "stream",
     "text": [
      "/kaggle/input/marrakech/text\n"
     ]
    }
   ],
   "source": [
    "# This Python 3 environment comes with many helpful analytics libraries installed\n",
    "# It is defined by the kaggle/python Docker image: https://github.com/kaggle/docker-python\n",
    "# For example, here's several helpful packages to load\n",
    "\n",
    "import numpy as np # linear algebra\n",
    "import pandas as pd # data processing, CSV file I/O (e.g. pd.read_csv)\n",
    "\n",
    "# Input data files are available in the read-only \"../input/\" directory\n",
    "# For example, running this (by clicking run or pressing Shift+Enter) will list all files under the input directory\n",
    "\n",
    "import os\n",
    "for dirname, _, filenames in os.walk('/kaggle/input'):\n",
    "    for filename in filenames:\n",
    "        print(os.path.join(dirname, filename))\n",
    "\n",
    "# You can write up to 20GB to the current directory (/kaggle/working/) that gets preserved as output when you create a version using \"Save & Run All\" \n",
    "# You can also write temporary files to /kaggle/temp/, but they won't be saved outside of the current session"
   ]
  },
  {
   "cell_type": "markdown",
   "id": "5f27cd26",
   "metadata": {
    "papermill": {
     "duration": 0.005403,
     "end_time": "2024-03-13T16:23:57.942135",
     "exception": false,
     "start_time": "2024-03-13T16:23:57.936732",
     "status": "completed"
    },
    "tags": []
   },
   "source": [
    "# Simple Preprocessing & Tokenization"
   ]
  },
  {
   "cell_type": "code",
   "execution_count": 2,
   "id": "b1b80e7c",
   "metadata": {
    "execution": {
     "iopub.execute_input": "2024-03-13T16:23:57.955798Z",
     "iopub.status.busy": "2024-03-13T16:23:57.954999Z",
     "iopub.status.idle": "2024-03-13T16:24:09.582452Z",
     "shell.execute_reply": "2024-03-13T16:24:09.581333Z"
    },
    "papermill": {
     "duration": 11.637105,
     "end_time": "2024-03-13T16:24:09.584870",
     "exception": false,
     "start_time": "2024-03-13T16:23:57.947765",
     "status": "completed"
    },
    "tags": []
   },
   "outputs": [
    {
     "name": "stdout",
     "output_type": "stream",
     "text": [
      "dict_keys(['the', 'and', 'of', 'marrakech', 'to', 'morocco', 'is', 'in', 'not', 'city', 'its', 'moroccan', 'with', 'medina', 'it', 'tradition', 'at', 'red', 'value', 'that', 'journey', 'through', 'heart', 'history', 'men', 'tapestry', 'saadian', 'offering', 'as', 'by', 'cuisine', 'modern', 'like', 'also', 'has', 'palaces', 'lies', 'just', 'architecture', 'world', 'ancient', 'time', 'does', 'unparalleled', 'mint', 'north', 'town', 'cultural', 'modernity', 'an', 'routes', 'referred', 'often', 'site', 'century', 'trade', 'old', 'cultures', 'pot', 'melting', 'heritage', 'territory', 'after', 'religions', 'distinctive', 'due', 'crucial', 'sought', 'mountains', 'atlas', 'remained', 'capped', 'unesco', 'snow', 'political', 'th', 'backdrop', 'economic', 'against', 'stands', 'buildings', 'center', 'hued', 'established', 'mediterranean', 'made', 'flourished', 'european', 'berber', 'arab', 'blend', 'unique', 'boasts', 'kingdom', 'african', 'this', 'here', 'once', 'historically', 'civilizations', 'testament', 'richness', 'mystery', 'drenched', 'country', 'africa', 'europe', 'crossroads', 'located', 'influences', 'rich', 'one', 'four', 'location', 'strategic', 'south', 'desert', 'sahara', 'vast', 'southeast', 'east', 'algeria', 'sea', 'maze', 'west', 'ocean', 'atlantic', 'bordered', 'significance', 'geographical', 'epicenter', 'vibrant', 'cities', 'imperial', 'labyrinthine', 'centuries', 'narrow', 'culinary', 'paired', 'cumin', 'saffron', 'spices', 'flavors', 'plethora', 'combine', 'dishes', 'many', 'few', 'are', 'pastilla', 'couscous', 'tagines', 'local', 'indulging', 'without', 'complete', 'be', 'would', 'no', 'contrast', 'stark', 'boutiques', 'chic', 'tea', 'experience', 'stylish', 'truly', 'have', 'tales', 'but', 'case', 'know', 'travel', 'who', 'he', 'goes', 'proverb', 'reflection', 'adventure', 'both', 'seeking', 'those', 'for', 'destination', 'enthralling', 'makes', 'gastronomy', 'culture', 'convergence', 'travelers', 'offers', 'conclusion', 'cafes', 'galleries', 'alleys', 'intricate', 'palace', 'bahia', 'grand', 'home', 'gardens', 'delicacies', 'tantalizing', 'stalls', 'food', 'charmers', 'snake', 'musicians', 'storytellers', 'evening', 'every', 'alive', 'comes', 'spanned', 'fna', 'el', 'djemaa', 'landmarks', 'historical', 'souks', 'bustling', 'showcasing', 'islamic', 'art', 'tombs', 'contemporary', 'brimming', 'new', 'gueliz', 'averse', 'permeate', 'while', 'accents', 'blue', 'cobalt', 'trees', 'palm', 'cacti', 'oasis', 'tranquil', 'laurent', 'saint', 'yves', 'designer', 'fashion', 'restored', 'garden', 'majorelle', 'dynasty', 'remnants', 'square'])\n"
     ]
    }
   ],
   "source": [
    "from gensim.models import Word2Vec\n",
    "from gensim.utils import simple_preprocess\n",
    "\n",
    "# Chargement du texte depuis le fichier\n",
    "text_path = \"/kaggle/input/marrakech/text\"\n",
    "with open(text_path, \"r\") as f:\n",
    "    text = f.read()\n",
    "\n",
    "\n",
    "# Entraînement du modèle Word2Vec\n",
    "tokenized_text = [simple_preprocess(sentence) for sentence in text.split('.')]\n",
    "model = Word2Vec(tokenized_text, window=5, min_count=1)\n",
    "print(model.wv.key_to_index.keys())\n",
    "\n"
   ]
  },
  {
   "cell_type": "code",
   "execution_count": null,
   "id": "5d2ea39c",
   "metadata": {
    "execution": {
     "iopub.execute_input": "2024-03-13T16:08:22.591847Z",
     "iopub.status.busy": "2024-03-13T16:08:22.590655Z",
     "iopub.status.idle": "2024-03-13T16:08:22.599355Z",
     "shell.execute_reply": "2024-03-13T16:08:22.597747Z",
     "shell.execute_reply.started": "2024-03-13T16:08:22.591795Z"
    },
    "papermill": {
     "duration": 0.005493,
     "end_time": "2024-03-13T16:24:09.596314",
     "exception": false,
     "start_time": "2024-03-13T16:24:09.590821",
     "status": "completed"
    },
    "tags": []
   },
   "outputs": [],
   "source": []
  },
  {
   "cell_type": "markdown",
   "id": "1488a8b5",
   "metadata": {
    "papermill": {
     "duration": 0.005397,
     "end_time": "2024-03-13T16:24:09.607461",
     "exception": false,
     "start_time": "2024-03-13T16:24:09.602064",
     "status": "completed"
    },
    "tags": []
   },
   "source": []
  },
  {
   "cell_type": "markdown",
   "id": "da5cc185",
   "metadata": {
    "papermill": {
     "duration": 0.005802,
     "end_time": "2024-03-13T16:24:09.619088",
     "exception": false,
     "start_time": "2024-03-13T16:24:09.613286",
     "status": "completed"
    },
    "tags": []
   },
   "source": [
    "# le vocabulaire du modèle "
   ]
  },
  {
   "cell_type": "code",
   "execution_count": 3,
   "id": "4a87edee",
   "metadata": {
    "execution": {
     "iopub.execute_input": "2024-03-13T16:24:09.633524Z",
     "iopub.status.busy": "2024-03-13T16:24:09.631955Z",
     "iopub.status.idle": "2024-03-13T16:24:09.659111Z",
     "shell.execute_reply": "2024-03-13T16:24:09.658261Z"
    },
    "papermill": {
     "duration": 0.036937,
     "end_time": "2024-03-13T16:24:09.661735",
     "exception": false,
     "start_time": "2024-03-13T16:24:09.624798",
     "status": "completed"
    },
    "tags": []
   },
   "outputs": [
    {
     "name": "stdout",
     "output_type": "stream",
     "text": [
      "dict_keys(['the', 'and', 'of', 'marrakech', 'to', 'morocco', 'is', 'in', 'not', 'city', 'its', 'moroccan', 'with', 'medina', 'it', 'tradition', 'at', 'red', 'value', 'that', 'journey', 'through', 'heart', 'history', 'men', 'tapestry', 'saadian', 'offering', 'as', 'by', 'cuisine', 'modern', 'like', 'also', 'has', 'palaces', 'lies', 'just', 'architecture', 'world', 'ancient', 'time', 'does', 'unparalleled', 'mint', 'north', 'town', 'cultural', 'modernity', 'an', 'routes', 'referred', 'often', 'site', 'century', 'trade', 'old', 'cultures', 'pot', 'melting', 'heritage', 'territory', 'after', 'religions', 'distinctive', 'due', 'crucial', 'sought', 'mountains', 'atlas', 'remained', 'capped', 'unesco', 'snow', 'political', 'th', 'backdrop', 'economic', 'against', 'stands', 'buildings', 'center', 'hued', 'established', 'mediterranean', 'made', 'flourished', 'european', 'berber', 'arab', 'blend', 'unique', 'boasts', 'kingdom', 'african', 'this', 'here', 'once', 'historically', 'civilizations', 'testament', 'richness', 'mystery', 'drenched', 'country', 'africa', 'europe', 'crossroads', 'located', 'influences', 'rich', 'one', 'four', 'location', 'strategic', 'south', 'desert', 'sahara', 'vast', 'southeast', 'east', 'algeria', 'sea', 'maze', 'west', 'ocean', 'atlantic', 'bordered', 'significance', 'geographical', 'epicenter', 'vibrant', 'cities', 'imperial', 'labyrinthine', 'centuries', 'narrow', 'culinary', 'paired', 'cumin', 'saffron', 'spices', 'flavors', 'plethora', 'combine', 'dishes', 'many', 'few', 'are', 'pastilla', 'couscous', 'tagines', 'local', 'indulging', 'without', 'complete', 'be', 'would', 'no', 'contrast', 'stark', 'boutiques', 'chic', 'tea', 'experience', 'stylish', 'truly', 'have', 'tales', 'but', 'case', 'know', 'travel', 'who', 'he', 'goes', 'proverb', 'reflection', 'adventure', 'both', 'seeking', 'those', 'for', 'destination', 'enthralling', 'makes', 'gastronomy', 'culture', 'convergence', 'travelers', 'offers', 'conclusion', 'cafes', 'galleries', 'alleys', 'intricate', 'palace', 'bahia', 'grand', 'home', 'gardens', 'delicacies', 'tantalizing', 'stalls', 'food', 'charmers', 'snake', 'musicians', 'storytellers', 'evening', 'every', 'alive', 'comes', 'spanned', 'fna', 'el', 'djemaa', 'landmarks', 'historical', 'souks', 'bustling', 'showcasing', 'islamic', 'art', 'tombs', 'contemporary', 'brimming', 'new', 'gueliz', 'averse', 'permeate', 'while', 'accents', 'blue', 'cobalt', 'trees', 'palm', 'cacti', 'oasis', 'tranquil', 'laurent', 'saint', 'yves', 'designer', 'fashion', 'restored', 'garden', 'majorelle', 'dynasty', 'remnants', 'square'])\n"
     ]
    }
   ],
   "source": [
    "model = Word2Vec(tokenized_text, window=5, min_count=1)\n",
    "print(model.wv.key_to_index.keys())"
   ]
  },
  {
   "cell_type": "markdown",
   "id": "cfb1059b",
   "metadata": {
    "papermill": {
     "duration": 0.005738,
     "end_time": "2024-03-13T16:24:09.673650",
     "exception": false,
     "start_time": "2024-03-13T16:24:09.667912",
     "status": "completed"
    },
    "tags": []
   },
   "source": []
  },
  {
   "cell_type": "markdown",
   "id": "d68c17bc",
   "metadata": {
    "papermill": {
     "duration": 0.005658,
     "end_time": "2024-03-13T16:24:09.685269",
     "exception": false,
     "start_time": "2024-03-13T16:24:09.679611",
     "status": "completed"
    },
    "tags": []
   },
   "source": [
    "# Extraction de la représentation vectorielle du mot \"Marrakech\""
   ]
  },
  {
   "cell_type": "code",
   "execution_count": 4,
   "id": "f32dbf6c",
   "metadata": {
    "collapsed": true,
    "execution": {
     "iopub.execute_input": "2024-03-13T16:24:09.699946Z",
     "iopub.status.busy": "2024-03-13T16:24:09.698823Z",
     "iopub.status.idle": "2024-03-13T16:24:09.705393Z",
     "shell.execute_reply": "2024-03-13T16:24:09.704228Z"
    },
    "jupyter": {
     "outputs_hidden": true
    },
    "papermill": {
     "duration": 0.016394,
     "end_time": "2024-03-13T16:24:09.707718",
     "exception": false,
     "start_time": "2024-03-13T16:24:09.691324",
     "status": "completed"
    },
    "tags": []
   },
   "outputs": [
    {
     "name": "stdout",
     "output_type": "stream",
     "text": [
      "Représentation vectorielle de 'Marrakech':\n",
      " [-0.00821353  0.00952752 -0.00021442 -0.00190384  0.00471327 -0.00436679\n",
      "  0.00296279  0.00733148  0.00582167 -0.0077056 ]\n"
     ]
    }
   ],
   "source": [
    "marrakech_embedding  = model.wv.get_vector(\"marrakech\")\n",
    "print(\"Représentation vectorielle de 'Marrakech':\\n\", marrakech_embedding [:10])"
   ]
  },
  {
   "cell_type": "markdown",
   "id": "def7ebcf",
   "metadata": {
    "papermill": {
     "duration": 0.006162,
     "end_time": "2024-03-13T16:24:09.720193",
     "exception": false,
     "start_time": "2024-03-13T16:24:09.714031",
     "status": "completed"
    },
    "tags": []
   },
   "source": [
    "# la similarité entre deux mots"
   ]
  },
  {
   "cell_type": "code",
   "execution_count": 5,
   "id": "32c63bd8",
   "metadata": {
    "execution": {
     "iopub.execute_input": "2024-03-13T16:24:09.734688Z",
     "iopub.status.busy": "2024-03-13T16:24:09.734028Z",
     "iopub.status.idle": "2024-03-13T16:24:09.742884Z",
     "shell.execute_reply": "2024-03-13T16:24:09.741684Z"
    },
    "papermill": {
     "duration": 0.01879,
     "end_time": "2024-03-13T16:24:09.745355",
     "exception": false,
     "start_time": "2024-03-13T16:24:09.726565",
     "status": "completed"
    },
    "tags": []
   },
   "outputs": [
    {
     "name": "stdout",
     "output_type": "stream",
     "text": [
      "Similarité entre 'cuisine' et 'food': -0.1233\n"
     ]
    }
   ],
   "source": [
    "word1 = \"cuisine\"\n",
    "word2 = \"food\"\n",
    "\n",
    "similarity_score = model.wv.similarity(word1, word2)\n",
    "\n",
    "print(f\"Similarité entre '{word1}' et '{word2}': {similarity_score:.4f}\")"
   ]
  },
  {
   "cell_type": "code",
   "execution_count": null,
   "id": "0140db7d",
   "metadata": {
    "papermill": {
     "duration": 0.005794,
     "end_time": "2024-03-13T16:24:09.757357",
     "exception": false,
     "start_time": "2024-03-13T16:24:09.751563",
     "status": "completed"
    },
    "tags": []
   },
   "outputs": [],
   "source": []
  },
  {
   "cell_type": "markdown",
   "id": "43874864",
   "metadata": {
    "papermill": {
     "duration": 0.005771,
     "end_time": "2024-03-13T16:24:09.769298",
     "exception": false,
     "start_time": "2024-03-13T16:24:09.763527",
     "status": "completed"
    },
    "tags": []
   },
   "source": [
    "# les mots contextuels les plus similaires pour un mot central donné"
   ]
  },
  {
   "cell_type": "code",
   "execution_count": 6,
   "id": "fd95432a",
   "metadata": {
    "execution": {
     "iopub.execute_input": "2024-03-13T16:24:09.783330Z",
     "iopub.status.busy": "2024-03-13T16:24:09.782879Z",
     "iopub.status.idle": "2024-03-13T16:24:09.798685Z",
     "shell.execute_reply": "2024-03-13T16:24:09.797039Z"
    },
    "papermill": {
     "duration": 0.028368,
     "end_time": "2024-03-13T16:24:09.803734",
     "exception": false,
     "start_time": "2024-03-13T16:24:09.775366",
     "status": "completed"
    },
    "tags": []
   },
   "outputs": [
    {
     "name": "stdout",
     "output_type": "stream",
     "text": [
      "Mots contextuels les plus similaires pour 'marrakech':\n",
      "evening: 0.298\n",
      "but: 0.273\n",
      "labyrinthine: 0.256\n",
      "averse: 0.241\n",
      "permeate: 0.226\n",
      "without: 0.223\n",
      "alleys: 0.218\n",
      "capped: 0.207\n",
      "designer: 0.187\n",
      "sahara: 0.184\n"
     ]
    }
   ],
   "source": [
    "central_word = \"marrakech\"\n",
    "topn = 10  \n",
    "\n",
    "similar_words = model.wv.most_similar(central_word, topn=topn)\n",
    "print(f\"Mots contextuels les plus similaires pour '{central_word}':\")\n",
    "for word, similarity in similar_words:\n",
    "    print(f\"{word}: {similarity:.3f}\")\n"
   ]
  },
  {
   "cell_type": "markdown",
   "id": "19462c18",
   "metadata": {
    "papermill": {
     "duration": 0.012314,
     "end_time": "2024-03-13T16:24:09.829036",
     "exception": false,
     "start_time": "2024-03-13T16:24:09.816722",
     "status": "completed"
    },
    "tags": []
   },
   "source": []
  },
  {
   "cell_type": "markdown",
   "id": "c3f668bf",
   "metadata": {
    "papermill": {
     "duration": 0.012297,
     "end_time": "2024-03-13T16:24:09.856259",
     "exception": false,
     "start_time": "2024-03-13T16:24:09.843962",
     "status": "completed"
    },
    "tags": []
   },
   "source": []
  }
 ],
 "metadata": {
  "kaggle": {
   "accelerator": "none",
   "dataSources": [
    {
     "datasetId": 4592789,
     "sourceId": 7835489,
     "sourceType": "datasetVersion"
    }
   ],
   "dockerImageVersionId": 30664,
   "isGpuEnabled": false,
   "isInternetEnabled": false,
   "language": "python",
   "sourceType": "notebook"
  },
  "kernelspec": {
   "display_name": "Python 3",
   "language": "python",
   "name": "python3"
  },
  "language_info": {
   "codemirror_mode": {
    "name": "ipython",
    "version": 3
   },
   "file_extension": ".py",
   "mimetype": "text/x-python",
   "name": "python",
   "nbconvert_exporter": "python",
   "pygments_lexer": "ipython3",
   "version": "3.10.13"
  },
  "papermill": {
   "default_parameters": {},
   "duration": 17.087577,
   "end_time": "2024-03-13T16:24:10.795628",
   "environment_variables": {},
   "exception": null,
   "input_path": "__notebook__.ipynb",
   "output_path": "__notebook__.ipynb",
   "parameters": {},
   "start_time": "2024-03-13T16:23:53.708051",
   "version": "2.5.0"
  }
 },
 "nbformat": 4,
 "nbformat_minor": 5
}
